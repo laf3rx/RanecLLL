{
 "cells": [
  {
   "cell_type": "code",
   "execution_count": 1,
   "id": "1960122b-d5ce-481e-afeb-f053e0ba1bd5",
   "metadata": {},
   "outputs": [],
   "source": [
    "def decompose_number(target, sequence):\n",
    "    result = []\n",
    "    current = target\n",
    "    # Проходим по последовательности от больших к малым\n",
    "    for num in reversed(sequence):\n",
    "        if num <= current:\n",
    "            result.append(num)\n",
    "            current -= num\n",
    "    if current != 0:\n",
    "        print(f\"Ошибка: Остаток {current} при попытке разложить {target} на {sequence}\")\n",
    "        raise ValueError(f\"Невозможно разложить {target} с данным набором элементов.\")\n",
    "    return result"
   ]
  },
  {
   "cell_type": "code",
   "execution_count": 2,
   "id": "02158029-d6ca-4926-bae8-68c3da9113ee",
   "metadata": {},
   "outputs": [],
   "source": [
    "def message_to_blocks(text, block_size):\n",
    "    # Преобразуем текст в сплошную бинарную строку\n",
    "    binary_string = \"\".join(bin(ord(char))[2:].zfill(8) for char in text)\n",
    "    # Дополняем до длины, кратной block_size\n",
    "    padding_length = (block_size - (len(binary_string) % block_size)) % block_size\n",
    "    binary_string += \"0\" * padding_length\n",
    "    # Разбиваем на блоки длиной block_size\n",
    "    blocks = [binary_string[i:i + block_size] for i in range(0, len(binary_string), block_size)]\n",
    "    return blocks"
   ]
  },
  {
   "cell_type": "code",
   "execution_count": 3,
   "id": "4738019c-0966-412e-9946-6f440783ba5c",
   "metadata": {},
   "outputs": [],
   "source": [
    "def string_to_binary_array(text):\n",
    "    binary_array = []\n",
    "    for char in text:\n",
    "        # Преобразуем символ в его ASCII-код\n",
    "        ascii_code = ord(char)\n",
    "        # Преобразуем ASCII-код в двоичную строку и убираем префикс '0b'\n",
    "        binary_char = bin(ascii_code)[2:]\n",
    "        # Дополняем до 8 бит ведущими нулями\n",
    "        binary_char = binary_char.zfill(8)\n",
    "        # Добавляем в массив\n",
    "        binary_array.append(binary_char)\n",
    "    return binary_array"
   ]
  },
  {
   "cell_type": "code",
   "execution_count": 4,
   "id": "9fd3c0dc-96b2-41cf-8991-c0d1e017f6f2",
   "metadata": {},
   "outputs": [],
   "source": [
    "# Преобразование разложения в бинарную строку\n",
    "def decompose_to_bin(d, w):\n",
    "    binary = \"\"\n",
    "    for wi in w:\n",
    "        binary += \"1\" if wi in d else \"0\"\n",
    "    return binary"
   ]
  },
  {
   "cell_type": "code",
   "execution_count": 5,
   "id": "c59776d2-5c6c-4b4d-9aaa-47f4ba04a8d9",
   "metadata": {},
   "outputs": [
    {
     "name": "stdout",
     "output_type": "stream",
     "text": [
      "Супервозрастающая последовательность w: [11, 24, 66, 233, 788, 2961, 11384, 44415]\n"
     ]
    }
   ],
   "source": [
    "#Ранцевая криптосистема Меркла — Хеллмана\n",
    "import random\n",
    "#Ранцевая криптосистема основана на проблеме subnet sum (задача о сумме подмножеств)\n",
    "\n",
    "#w = [11]  # начальный элемент\n",
    "#for i in range(9-1): #256 бит\n",
    "#    w.append(random.randint(sum(w) + 1, sum(w) * 2))  # гарантируем, что w[i] > sum(w[0:i-1])\n",
    "#print(\"Супервозрастающая последовательность w:\", w)\n",
    "#w = [11, 28, 97, 274, 865, 2567, 7776, 23253]\n",
    "#w = [11, 15, 40, 100, 250, 600, 1500]\n",
    "#print(w)\n",
    "#w = [11, 16, 52, 83, 321, 681, 1948, 3338]\n",
    "#[11, 21, 59, 112, 226, 466, 1542, 4186]\n",
    "#w = [11]\n",
    "\n",
    "#В КАЧЕСТВЕ ДЕМОНСТРАЦИИ КРИПТОАТАКИ ЧЕРЕЗ LLL\n",
    "#Нужно чтобы последовательность была максимально стабильная и предугадываемая\n",
    "#Если брать только случайные числа превозходящие себя, то\n",
    "#LLL дешифрует сообщение(innokentiy) с помехами например i@#o@@@@tiy\n",
    "#Так происходит потому что не всякий кротчайших вектор удовлетворяет условию расшифрования\n",
    "\n",
    "#Последовательность НЕЛЬЗЯ брать просто случайно возрастающую, т.к это не стабильно для LLL\n",
    "#При случайном выборе последовательности, и длинне больше 8\n",
    "#LLL начинает находить векторы с большим количеством шума и атака трудновыполнима\n",
    "#!!!Тут мы упираемся в проблему поиска короткого вектора SVP!!!\n",
    "\n",
    "#Чтобы LLL работал мне пришлость добавить фикс. шаг, а рандомом я беру \n",
    "#очень маленькие величины\n",
    "#таким образом у меня получился контролируемый экспоненциальный рост с небольшим шумом.\n",
    "#последовательность такого характера взломать с LLL\n",
    "\n",
    "#при 1024 бит обычный LLL не справляется, и нужно использовать другие методы:\n",
    "#BKZ (Block Korkine-Zolotarev)\n",
    "#Атаку на низкую плотность с BKZ\n",
    "#Атаку Шамира с современными улучшениями\n",
    "\n",
    "#w = [2, 7, 11, 21, 42, 89, 180, 354]\n",
    "w = [11]\n",
    "base = 7\n",
    "length = 7\n",
    "for i in range(length):\n",
    "    w.append(sum(w) + base * 2^i + random.randint(0, base))\n",
    "    base *= 2\n",
    "print(\"Супервозрастающая последовательность w:\", w)\n",
    "#вывод: похоже что чем случайней и длинее последовательность,\n",
    "#тем сложнее алгоритму LLL искать нужный вектор и тем больше шумов при дешифровки\n",
    "#На дан\n",
    "#32 w = [11, 21, 91, 288, 1055, 4077, 15984, 62622, 248321, 989488, 3945220, 15755139, 62968583, 251765015, 1006853012, 4027010553, 16107193639, 64426683923, 257702758235, 1030802529218, 4123188267970, 16492718778187, 65970795198819, 263882979940594, 1055531560474577, 4222125526709338, 16888500464186988, 67553998517704764, 270215985590266587, 1080863926174494420, 4323455675479441821, 17293822638909759492]"
   ]
  },
  {
   "cell_type": "code",
   "execution_count": 6,
   "id": "2f196033-5d7b-43b3-a2ea-6e23c4ff68c2",
   "metadata": {},
   "outputs": [
    {
     "name": "stdout",
     "output_type": "stream",
     "text": [
      "Сумма w: 59882\n"
     ]
    }
   ],
   "source": [
    "#Сумма последовательности \n",
    "wSum = sum(w)\n",
    "print(\"Сумма w:\", wSum)"
   ]
  },
  {
   "cell_type": "code",
   "execution_count": 7,
   "id": "086a4043-b220-499d-86e6-e10d923efb32",
   "metadata": {},
   "outputs": [
    {
     "name": "stdout",
     "output_type": "stream",
     "text": [
      "q: 59887\n"
     ]
    }
   ],
   "source": [
    "#простое q > wSum\n",
    "#q = 881 #\n",
    "q = next_prime(wSum)\n",
    "print(\"q:\", q)\n",
    "#q = 48433"
   ]
  },
  {
   "cell_type": "code",
   "execution_count": 8,
   "id": "af32a2ed-732e-45cc-a891-c387c74fc371",
   "metadata": {},
   "outputs": [],
   "source": [
    "#выбираем r, 1 < r < q, взаимно простое с q\n",
    "while True:\n",
    "    r = random.randint(1,q)\n",
    "    if(gcd(r,q) == 1):\n",
    "        break"
   ]
  },
  {
   "cell_type": "code",
   "execution_count": 9,
   "id": "4797e70f-942c-4aa1-9e32-274c2759c4c0",
   "metadata": {},
   "outputs": [
    {
     "name": "stdout",
     "output_type": "stream",
     "text": [
      "31881\n",
      "1\n"
     ]
    }
   ],
   "source": [
    "#r = 588\n",
    "print(r)\n",
    "print(gcd(r,q)) #должен быть 1"
   ]
  },
  {
   "cell_type": "code",
   "execution_count": 10,
   "id": "1586aa71-74c1-4777-aa05-7b1b0dea5311",
   "metadata": {},
   "outputs": [
    {
     "name": "stdout",
     "output_type": "stream",
     "text": [
      "Закрытый ключ: \n",
      "w: [11, 24, 66, 233, 788, 2961, 11384, 44415], \n",
      "q: 59887, \n",
      "r: 31881\n"
     ]
    }
   ],
   "source": [
    "\n",
    "#Закрытый ключ\n",
    "print(f'Закрытый ключ: \\nw: {w}, \\nq: {q}, \\nr: {r}')\n",
    "Pr = [w,q,r]\n",
    "#print(Pr)\n"
   ]
  },
  {
   "cell_type": "code",
   "execution_count": 11,
   "id": "af95983f-acd1-4dc6-9b53-f7a54c19bebc",
   "metadata": {},
   "outputs": [
    {
     "name": "stdout",
     "output_type": "stream",
     "text": [
      "Открытый ключ: [51256, 46500, 8101, 2285, 29575, 17729, 18084, 26387]\n"
     ]
    }
   ],
   "source": [
    "#Строим открытый ключ\n",
    "B = []\n",
    "for wi in w:\n",
    "    #print(f'{wi} * {r} mod {q} = {(wi*r) % q}')\n",
    "    B.append((wi*r) % q)\n",
    "print(f'Открытый ключ: {B}')\n"
   ]
  },
  {
   "cell_type": "code",
   "execution_count": 12,
   "id": "a9b619fa-e350-47e9-9dc6-e701e3435823",
   "metadata": {},
   "outputs": [
    {
     "name": "stdout",
     "output_type": "stream",
     "text": [
      "Бинарные блоки сообщения: ['01100001', '01110100', '01100001', '01101011', '01100001', '00100000', '01111010', '01100001', '01110110', '01110100', '01110010', '01100001']\n"
     ]
    }
   ],
   "source": [
    "mSTR = \"ataka zavtra\"\n",
    "block_size = len(w)\n",
    "bSTR = message_to_blocks(mSTR, block_size)\n",
    "print(\"Бинарные блоки сообщения:\", bSTR)"
   ]
  },
  {
   "cell_type": "code",
   "execution_count": 13,
   "id": "d6c25fd1-4832-43b2-84ef-fa5b3d84976c",
   "metadata": {},
   "outputs": [
    {
     "name": "stdout",
     "output_type": "stream",
     "text": [
      "Зашифрованное сообщение C: [80988, 74615, 80988, 128647, 80988, 8101, 104545, 80988, 92699, 74615, 74970, 80988]\n"
     ]
    }
   ],
   "source": [
    "# Алиса шифрует сообщение используя открытый ключ Боба B\n",
    "C = []\n",
    "for block in bSTR:\n",
    "    sumM = 0\n",
    "    for i in range(len(w)):\n",
    "        bit = int(block[i])\n",
    "        sumM += bit * B[i]\n",
    "        # Отладка: выведем, какие элементы добавляются\n",
    "        #if bit == 1:\n",
    "            #print(f\"Блок {block}: добавляем B[{i}] = {B[i]}\")\n",
    "    C.append(sumM)\n",
    "print(\"Зашифрованное сообщение C:\", C)"
   ]
  },
  {
   "cell_type": "code",
   "execution_count": 14,
   "id": "63f95f67-7f96-4e1c-a7bd-0dd2779d734c",
   "metadata": {},
   "outputs": [
    {
     "name": "stdout",
     "output_type": "stream",
     "text": [
      "C' (после умножения на r^-1 mod q): [44505, 3284, 44505, 56677, 44505, 66, 12495, 44505, 14668, 3284, 11707, 44505]\n"
     ]
    }
   ],
   "source": [
    "# Расшифровка: вычисление C'\n",
    "Ct = []\n",
    "for i, Ci in enumerate(C):\n",
    "    c_prime = (Ci * pow(r, -1, q)) % q\n",
    "    Ct.append(c_prime)\n",
    "    # Проверяем, соответствует ли C' сумме элементов w\n",
    "    #expected_sum = sum(w[j] for j in range(len(w)) if int(bSTR[i][j]) == 1)\n",
    "    #print(f\"Блок {i}: C' = {c_prime}, Ожидаемая сумма w = {expected_sum}\")\n",
    "print(\"C' (после умножения на r^-1 mod q):\", Ct)"
   ]
  },
  {
   "cell_type": "code",
   "execution_count": 15,
   "id": "43b31fe3-9c25-4ce6-b23f-8267a502a177",
   "metadata": {},
   "outputs": [
    {
     "name": "stdout",
     "output_type": "stream",
     "text": [
      "\n",
      "Разложение C'[0] = 44505:\n",
      "Разложение: [44415, 66, 24], Бинарный код: 01100001\n",
      "\n",
      "Разложение C'[1] = 3284:\n",
      "Разложение: [2961, 233, 66, 24], Бинарный код: 01110100\n",
      "\n",
      "Разложение C'[2] = 44505:\n",
      "Разложение: [44415, 66, 24], Бинарный код: 01100001\n",
      "\n",
      "Разложение C'[3] = 56677:\n",
      "Разложение: [44415, 11384, 788, 66, 24], Бинарный код: 01101011\n",
      "\n",
      "Разложение C'[4] = 44505:\n",
      "Разложение: [44415, 66, 24], Бинарный код: 01100001\n",
      "\n",
      "Разложение C'[5] = 66:\n",
      "Разложение: [66], Бинарный код: 00100000\n",
      "\n",
      "Разложение C'[6] = 12495:\n",
      "Разложение: [11384, 788, 233, 66, 24], Бинарный код: 01111010\n",
      "\n",
      "Разложение C'[7] = 44505:\n",
      "Разложение: [44415, 66, 24], Бинарный код: 01100001\n",
      "\n",
      "Разложение C'[8] = 14668:\n",
      "Разложение: [11384, 2961, 233, 66, 24], Бинарный код: 01110110\n",
      "\n",
      "Разложение C'[9] = 3284:\n",
      "Разложение: [2961, 233, 66, 24], Бинарный код: 01110100\n",
      "\n",
      "Разложение C'[10] = 11707:\n",
      "Разложение: [11384, 233, 66, 24], Бинарный код: 01110010\n",
      "\n",
      "Разложение C'[11] = 44505:\n",
      "Разложение: [44415, 66, 24], Бинарный код: 01100001\n"
     ]
    }
   ],
   "source": [
    "# Расшифровка сообщения\n",
    "binary_result = \"\"\n",
    "for i, n in enumerate(Ct):\n",
    "    print(f\"\\nРазложение C'[{i}] = {n}:\")\n",
    "    d = decompose_number(n, w)\n",
    "    binary = decompose_to_bin(d, w)\n",
    "    print(f\"Разложение: {d}, Бинарный код: {binary}\")\n",
    "    binary_result += binary"
   ]
  },
  {
   "cell_type": "code",
   "execution_count": 16,
   "id": "04fd4c14-1587-45d2-a1d1-36629b79f055",
   "metadata": {},
   "outputs": [
    {
     "name": "stdout",
     "output_type": "stream",
     "text": [
      "Расшифрованное сообщение: ataka zavtra\n"
     ]
    }
   ],
   "source": [
    "# Преобразуем бинарную строку обратно в текст\n",
    "result = \"\"\n",
    "for i in range(0, len(binary_result), 8):\n",
    "    byte = binary_result[i:i+8]\n",
    "    if int(byte, 2) != 0:  # игнорируем padding из нулей\n",
    "        result += chr(int(byte, 2))\n",
    "print(\"Расшифрованное сообщение:\", result)"
   ]
  },
  {
   "cell_type": "code",
   "execution_count": 30,
   "id": "e8be0af4-13c7-4ba0-b378-ba5f97ecdf65",
   "metadata": {},
   "outputs": [
    {
     "name": "stdout",
     "output_type": "stream",
     "text": [
      "59882 [51256, 46500, 8101, 2285, 29575, 17729, 18084, 26387]\n"
     ]
    }
   ],
   "source": [
    "print(wSum, B)"
   ]
  },
  {
   "cell_type": "code",
   "execution_count": 17,
   "id": "c106a7fc-0074-4497-ad77-a5048127130e",
   "metadata": {},
   "outputs": [
    {
     "name": "stdout",
     "output_type": "stream",
     "text": [
      "[51256, 46500, 8101, 2285, 29575, 17729, 18084, 26387]\n",
      "[80988, 74615, 80988, 128647, 80988, 8101, 104545, 80988, 92699, 74615, 74970, 80988]\n",
      "80988\n"
     ]
    }
   ],
   "source": [
    "#print(B)\n",
    "H = B\n",
    "n = len(H)\n",
    "print(H) #публичный ключ\n",
    "print(C) # перехваченное шифрованное сообщение\n",
    "c = C[0]\n",
    "print(c) # первая буква\n",
    "\n",
    "#Криптоатака1 \n",
    "#формируем матрицу вида\n",
    "#1 0 0 0 0 0 0 0 h1\n",
    "#0 1 0 0 0 0 0 0 h2\n",
    "#0 0 1 0 0 0 0 0 h3\n",
    "#0 0 0 1 0 0 0 0 h4\n",
    "#0 0 0 0 1 0 0 0 h5\n",
    "#0 0 0 0 0 1 0 0 h6\n",
    "#0 0 0 0 0 0 1 0 h7\n",
    "#0 0 0 0 0 0 0 1 h8\n",
    "#0 0 0 0 0 0 0 0 c\n",
    "#"
   ]
  },
  {
   "cell_type": "code",
   "execution_count": 18,
   "id": "421c065f-df66-4be9-961a-1be23359d2d6",
   "metadata": {},
   "outputs": [
    {
     "name": "stdout",
     "output_type": "stream",
     "text": [
      "Единичная матрица I:\n",
      "[1 0 0 0 0 0 0 0]\n",
      "[0 1 0 0 0 0 0 0]\n",
      "[0 0 1 0 0 0 0 0]\n",
      "[0 0 0 1 0 0 0 0]\n",
      "[0 0 0 0 1 0 0 0]\n",
      "[0 0 0 0 0 1 0 0]\n",
      "[0 0 0 0 0 0 1 0]\n",
      "[0 0 0 0 0 0 0 1]\n"
     ]
    }
   ],
   "source": [
    "# Создаём единичную матрицу размером n x n\n",
    "I = identity_matrix(ZZ, n)\n",
    "print(\"Единичная матрица I:\")\n",
    "print(I)\n"
   ]
  },
  {
   "cell_type": "code",
   "execution_count": 19,
   "id": "aeae653e-75d3-4b1b-88e5-0b053602385c",
   "metadata": {},
   "outputs": [
    {
     "name": "stdout",
     "output_type": "stream",
     "text": [
      "Правый столбец H:\n",
      "[ 51256]\n",
      "[ 46500]\n",
      "[  8101]\n",
      "[  2285]\n",
      "[ 29575]\n",
      "[ 17729]\n",
      "[ 18084]\n",
      "[ 26387]\n",
      "[-80988]\n"
     ]
    }
   ],
   "source": [
    "# Создаём столбец L_h из элементов B и -C\n",
    "right = matrix(ZZ, n + 1, 1, B + [-c])  # Матрица n+1 x 1\n",
    "print(\"Правый столбец H:\")\n",
    "print(right)"
   ]
  },
  {
   "cell_type": "code",
   "execution_count": 20,
   "id": "ebb38842-5a6d-422b-8f28-39fa41e66e56",
   "metadata": {},
   "outputs": [
    {
     "name": "stdout",
     "output_type": "stream",
     "text": [
      "I с добавленной строкой:\n",
      "[1 0 0 0 0 0 0 0]\n",
      "[0 1 0 0 0 0 0 0]\n",
      "[0 0 1 0 0 0 0 0]\n",
      "[0 0 0 1 0 0 0 0]\n",
      "[0 0 0 0 1 0 0 0]\n",
      "[0 0 0 0 0 1 0 0]\n",
      "[0 0 0 0 0 0 1 0]\n",
      "[0 0 0 0 0 0 0 1]\n",
      "[0 0 0 0 0 0 0 0]\n"
     ]
    }
   ],
   "source": [
    "# Добавляем строку нулей к I снизу, чтобы сделать её n+1 x n\n",
    "I = I.stack(matrix(ZZ, 1, n, [0 for _ in range(n)]))\n",
    "print(\"I с добавленной строкой:\")\n",
    "print(I)"
   ]
  },
  {
   "cell_type": "code",
   "execution_count": 21,
   "id": "baf1836a-130c-4d8d-a749-5c1ffc05bf0e",
   "metadata": {},
   "outputs": [
    {
     "name": "stdout",
     "output_type": "stream",
     "text": [
      "Матрица решётки L: \n",
      "[     1      0      0      0      0      0      0      0  51256]\n",
      "[     0      1      0      0      0      0      0      0  46500]\n",
      "[     0      0      1      0      0      0      0      0   8101]\n",
      "[     0      0      0      1      0      0      0      0   2285]\n",
      "[     0      0      0      0      1      0      0      0  29575]\n",
      "[     0      0      0      0      0      1      0      0  17729]\n",
      "[     0      0      0      0      0      0      1      0  18084]\n",
      "[     0      0      0      0      0      0      0      1  26387]\n",
      "[     0      0      0      0      0      0      0      0 -80988]\n"
     ]
    }
   ],
   "source": [
    "# Объединяем I и L_h\n",
    "L = I.augment(right)\n",
    "print(f\"Матрица решётки L: \\n{L}\")\n",
    "#print(L)"
   ]
  },
  {
   "cell_type": "code",
   "execution_count": 22,
   "id": "9e6be05e-81de-43e7-9727-98dea5cb96e8",
   "metadata": {},
   "outputs": [
    {
     "name": "stdout",
     "output_type": "stream",
     "text": [
      "\n",
      "Матрица после LLL:\n",
      "[ 0  1  1  0  0  0  0  1  0]\n",
      "[-1  0  0 -1  0  2  1  0  1]\n",
      "[ 2  0 -1 -1 -1 -1  2  0  2]\n",
      "[ 1 -2  0  2  1  1  1  2  0]\n",
      "[ 2  2  1  0  1  1 -2 -2 -1]\n",
      "[-1 -2  1  0 -3  0 -1  0  0]\n",
      "[ 1  1  0 -2 -1  2 -1  0 -3]\n",
      "[ 0  1 -3 -1  0  0 -1  3  1]\n",
      "[ 1 -3  3 -2  2 -2 -2  0  1]\n"
     ]
    }
   ],
   "source": [
    "# Применяем LLL\n",
    "L_LLL = L.LLL()\n",
    "print(\"\\nМатрица после LLL:\")\n",
    "print(L_LLL)"
   ]
  },
  {
   "cell_type": "code",
   "execution_count": 32,
   "id": "1ec28194-f1e9-420e-bb84-a08d9b1c800f",
   "metadata": {},
   "outputs": [
    {
     "name": "stdout",
     "output_type": "stream",
     "text": [
      "80988 80988\n",
      "01100001\n",
      "['0', '1', '1', '0', '0', '0', '0', '1']\n",
      "(0, 1, 1, 0, 0, 0, 0, 1)\n"
     ]
    }
   ],
   "source": [
    "#1\n",
    "print(L_LLL[0][:-1].dot_product(vector(H)),c) #берём первую строку уменьшенного базиса, тут \n",
    "#это вектор длиной n+1 (где n — длина B), например, [x1,x2,…,xn,1], где xi — биты сообщения, а последняя координата — 1 или −1.\n",
    "#убрали послед координату\n",
    "#при помощи dot_product - вычисляем скалярное произведение вектора x1,x2...xn на B(открытый ключ)\n",
    "bs1 = ''.join([str(x) for x in L.LLL()[0][:-1]])\n",
    "print(bs1)#совпадает с первой буквой в бинарном виде\n",
    "#print(chr(int(bs1,2)))#расшифровали первую букву \n",
    "print([str(x) for x in L.LLL()[0][:-1]])\n",
    "print(L_LLL[0][:-1])\n"
   ]
  },
  {
   "cell_type": "code",
   "execution_count": 24,
   "id": "60aa5184-4000-453f-a944-b2f2213c970c",
   "metadata": {},
   "outputs": [
    {
     "name": "stdout",
     "output_type": "stream",
     "text": [
      "01100001\n"
     ]
    }
   ],
   "source": [
    "print(bs1)"
   ]
  },
  {
   "cell_type": "code",
   "execution_count": 25,
   "id": "a5755993-8fac-487a-8041-a323febbd5c6",
   "metadata": {},
   "outputs": [
    {
     "name": "stdout",
     "output_type": "stream",
     "text": [
      "Дешифрованная первая буква: a\n"
     ]
    }
   ],
   "source": [
    "print(\"Дешифрованная первая буква:\", chr(int(bs1, 2)))"
   ]
  },
  {
   "cell_type": "code",
   "execution_count": 26,
   "id": "42925e15-8aba-4b83-9021-418601127f89",
   "metadata": {},
   "outputs": [],
   "source": [
    "def LLL_VC_sage(C, B):\n",
    "    n = len(B)\n",
    "    print(\"Публичный ключ B:\", B)\n",
    "    print(\"Шифротекст C:\", C)\n",
    "    binary_result = \"\"  # Собираем все биты\n",
    "    for c in C:\n",
    "        I = identity_matrix(ZZ, n)\n",
    "        right = matrix(ZZ, n + 1, 1, B + [-c])\n",
    "        I = I.stack(matrix(ZZ, 1, n, [0 for _ in range(n)]))\n",
    "        L = I.augment(right)\n",
    "        L_LLL = L.LLL()\n",
    "        bs1 = \"\".join(\"1\" if x > 0 else \"0\" for x in L_LLL[0][:-1])\n",
    "        print(f\"Бинарный код для c={c}: {bs1}\")\n",
    "        binary_result += bs1\n",
    "    # Преобразуем бинарную строку в текст по 8 бит\n",
    "    message = \"\"\n",
    "    for i in range(0, len(binary_result) - 7, 8):  # Берем только полные 8-битные куски\n",
    "        byte = binary_result[i:i+8]\n",
    "        if int(byte, 2) != 0:  # Игнорируем padding\n",
    "            message += chr(int(byte, 2))\n",
    "    print(\"Расшифрованное сообщение:\", message)"
   ]
  },
  {
   "cell_type": "code",
   "execution_count": 33,
   "id": "2070f730-850c-476a-b62f-e9cb69ebc9b3",
   "metadata": {},
   "outputs": [
    {
     "name": "stdout",
     "output_type": "stream",
     "text": [
      "Публичный ключ B: [51256, 46500, 8101, 2285, 29575, 17729, 18084, 26387]\n",
      "Шифротекст C: [80988, 74615, 80988, 128647, 80988, 8101, 104545, 80988, 92699, 74615, 74970, 80988]\n",
      "Бинарный код для c=80988: 01100001\n",
      "Бинарный код для c=74615: 01110100\n",
      "Бинарный код для c=80988: 01100001\n",
      "Бинарный код для c=128647: 01101011\n",
      "Бинарный код для c=80988: 01100001\n",
      "Бинарный код для c=8101: 00100000\n",
      "Бинарный код для c=104545: 01111010\n",
      "Бинарный код для c=80988: 01100001\n",
      "Бинарный код для c=92699: 01110110\n",
      "Бинарный код для c=74615: 01110100\n",
      "Бинарный код для c=74970: 01110010\n",
      "Бинарный код для c=80988: 01100001\n",
      "Расшифрованное сообщение: ataka zavtra\n"
     ]
    }
   ],
   "source": [
    "LLL_VC_sage(C,B)\n",
    "#print(w)\n",
    "#[11, 17, 32, 97, 185, 520, 1203, 2231, 8478]"
   ]
  },
  {
   "cell_type": "code",
   "execution_count": null,
   "id": "47f21722-9744-4c2f-9eac-d50c62bda33e",
   "metadata": {},
   "outputs": [],
   "source": []
  }
 ],
 "metadata": {
  "kernelspec": {
   "display_name": "SageMath 10.5",
   "language": "sage",
   "name": "sagemath"
  },
  "language_info": {
   "codemirror_mode": {
    "name": "ipython",
    "version": 3
   },
   "file_extension": ".py",
   "mimetype": "text/x-python",
   "name": "python",
   "nbconvert_exporter": "python",
   "pygments_lexer": "ipython3",
   "version": "3.11.11"
  }
 },
 "nbformat": 4,
 "nbformat_minor": 5
}
