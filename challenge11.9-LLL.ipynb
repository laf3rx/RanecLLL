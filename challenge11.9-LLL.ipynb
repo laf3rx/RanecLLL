{
 "cells": [
  {
   "cell_type": "code",
   "execution_count": 11,
   "id": "571be1ec-23c1-406f-8efc-9d452f000432",
   "metadata": {},
   "outputs": [
    {
     "name": "stdout",
     "output_type": "stream",
     "text": [
      "Шифрованное сообщение: [318668, 317632, 226697, 388930, 357448, 297811, 344670, 219717, 388930, 307414, 220516, 281175]\n",
      "Публичный ключ: [106507, 31482, 107518, 60659, 80717, 81516, 117973, 87697]\n"
     ]
    }
   ],
   "source": [
    "#из задания\n",
    "C = [318668, 317632, 226697, 388930, 357448, 297811,\n",
    "344670, 219717, 388930, 307414, 220516, 281175]\n",
    "print(f'Шифрованное сообщение: {C}')\n",
    "B = [106507, 31482, 107518, 60659, 80717, 81516, 117973, 87697]\n",
    "print(f'Публичный ключ: {B}')"
   ]
  },
  {
   "cell_type": "code",
   "execution_count": 12,
   "id": "c106a7fc-0074-4497-ad77-a5048127130e",
   "metadata": {},
   "outputs": [
    {
     "name": "stdout",
     "output_type": "stream",
     "text": [
      "[106507, 31482, 107518, 60659, 80717, 81516, 117973, 87697]\n",
      "[318668, 317632, 226697, 388930, 357448, 297811, 344670, 219717, 388930, 307414, 220516, 281175]\n",
      "318668\n"
     ]
    }
   ],
   "source": [
    "n = len(B) #длина открытого ключа\n",
    "print(H)\n",
    "print(C) # перехваченное шифрованное сообщение\n",
    "c = C[0]\n",
    "print(c) # первая буква\n",
    "\n",
    "#Криптоатака1 \n",
    "#формируем матрицу вида\n",
    "#1 0 0 0 0 0 0 0 h1\n",
    "#0 1 0 0 0 0 0 0 h2\n",
    "#0 0 1 0 0 0 0 0 h3\n",
    "#0 0 0 1 0 0 0 0 h4\n",
    "#0 0 0 0 1 0 0 0 h5\n",
    "#0 0 0 0 0 1 0 0 h6\n",
    "#0 0 0 0 0 0 1 0 h7\n",
    "#0 0 0 0 0 0 0 1 h8\n",
    "#0 0 0 0 0 0 0 0 c\n",
    "#"
   ]
  },
  {
   "cell_type": "code",
   "execution_count": 13,
   "id": "421c065f-df66-4be9-961a-1be23359d2d6",
   "metadata": {},
   "outputs": [
    {
     "name": "stdout",
     "output_type": "stream",
     "text": [
      "Единичная матрица I:\n",
      "[1 0 0 0 0 0 0 0]\n",
      "[0 1 0 0 0 0 0 0]\n",
      "[0 0 1 0 0 0 0 0]\n",
      "[0 0 0 1 0 0 0 0]\n",
      "[0 0 0 0 1 0 0 0]\n",
      "[0 0 0 0 0 1 0 0]\n",
      "[0 0 0 0 0 0 1 0]\n",
      "[0 0 0 0 0 0 0 1]\n"
     ]
    }
   ],
   "source": [
    "# Создаём единичную матрицу размером n x n\n",
    "I = identity_matrix(ZZ, n)\n",
    "print(\"Единичная матрица I:\")\n",
    "print(I)\n"
   ]
  },
  {
   "cell_type": "code",
   "execution_count": 14,
   "id": "aeae653e-75d3-4b1b-88e5-0b053602385c",
   "metadata": {},
   "outputs": [
    {
     "name": "stdout",
     "output_type": "stream",
     "text": [
      "Правый столбец H:\n",
      "[ 106507]\n",
      "[  31482]\n",
      "[ 107518]\n",
      "[  60659]\n",
      "[  80717]\n",
      "[  81516]\n",
      "[ 117973]\n",
      "[  87697]\n",
      "[-318668]\n"
     ]
    }
   ],
   "source": [
    "# Создаём столбец L_h из элементов B и -C\n",
    "right = matrix(ZZ, n + 1, 1, H + [-c])  # Матрица n+1 x 1\n",
    "print(\"Правый столбец H:\")\n",
    "print(right)"
   ]
  },
  {
   "cell_type": "code",
   "execution_count": 15,
   "id": "ebb38842-5a6d-422b-8f28-39fa41e66e56",
   "metadata": {},
   "outputs": [
    {
     "name": "stdout",
     "output_type": "stream",
     "text": [
      "I с добавленной строкой:\n",
      "[1 0 0 0 0 0 0 0]\n",
      "[0 1 0 0 0 0 0 0]\n",
      "[0 0 1 0 0 0 0 0]\n",
      "[0 0 0 1 0 0 0 0]\n",
      "[0 0 0 0 1 0 0 0]\n",
      "[0 0 0 0 0 1 0 0]\n",
      "[0 0 0 0 0 0 1 0]\n",
      "[0 0 0 0 0 0 0 1]\n",
      "[0 0 0 0 0 0 0 0]\n"
     ]
    }
   ],
   "source": [
    "# Добавляем строку нулей к I снизу, чтобы сделать её n+1 x n\n",
    "I = I.stack(matrix(ZZ, 1, n, [0 for _ in range(n)]))\n",
    "print(\"I с добавленной строкой:\")\n",
    "print(I)"
   ]
  },
  {
   "cell_type": "code",
   "execution_count": 16,
   "id": "baf1836a-130c-4d8d-a749-5c1ffc05bf0e",
   "metadata": {},
   "outputs": [],
   "source": [
    "# Объединяем I и L_h\n",
    "L = I.augment(right)\n",
    "#print(\"Матрица решётки L:\")\n",
    "#print(L)"
   ]
  },
  {
   "cell_type": "code",
   "execution_count": 17,
   "id": "9e6be05e-81de-43e7-9727-98dea5cb96e8",
   "metadata": {},
   "outputs": [
    {
     "name": "stdout",
     "output_type": "stream",
     "text": [
      "\n",
      "Матрица после LLL:\n",
      "[ 0  1  0  0  0  1  1  1  0]\n",
      "[-1  1  0  1 -1 -2 -2  2  1]\n",
      "[ 3  1  2 -1  1  1 -1  1  1]\n",
      "[ 1 -1 -2 -1 -3 -1  1  1  1]\n",
      "[ 2 -2 -1  1  0  2 -3  1  1]\n",
      "[ 0  0  3 -4 -2  1  0  0  0]\n",
      "[-1  3 -1  3  0  0 -1 -3  2]\n",
      "[ 0 -1  1  4  0  0  0  0  4]\n",
      "[-2 -1 -2 -3  1 -1  2  1  3]\n"
     ]
    }
   ],
   "source": [
    "# Применяем LLL\n",
    "L_LLL = L.LLL()\n",
    "print(\"\\nМатрица после LLL:\")\n",
    "print(L_LLL)"
   ]
  },
  {
   "cell_type": "code",
   "execution_count": 18,
   "id": "1ec28194-f1e9-420e-bb84-a08d9b1c800f",
   "metadata": {},
   "outputs": [
    {
     "name": "stdout",
     "output_type": "stream",
     "text": [
      "318668 318668\n",
      "01000111\n",
      "G\n"
     ]
    }
   ],
   "source": [
    "#1\n",
    "print(L_LLL[0][:-1].dot_product(vector(H)),c) #берём первую строку уменьшенного базиса, тут \n",
    "#это вектор длиной n+1 (где n — длина B), например, [x1,x2,…,xn,1], где xi — биты сообщения, а последняя координата — 1 или −1.\n",
    "#убрали послед координату\n",
    "#при помощи dot_product - вычисляем скалярное произведение вектора x1,x2...xn на B(открытый ключ)\n",
    "bs1 = ''.join([str(x) for x in L.LLL()[0][:-1]])\n",
    "print(bs1)#совпадает с первой буквой в бинарном виде\n",
    "print(chr(int(bs1,2)))#расшифровали первую букву \n",
    "\n"
   ]
  },
  {
   "cell_type": "code",
   "execution_count": 19,
   "id": "42925e15-8aba-4b83-9021-418601127f89",
   "metadata": {},
   "outputs": [],
   "source": [
    "def LLL_VC_sage(C, B):\n",
    "    n = len(B)\n",
    "    #print(\"Публичный ключ B:\", B)\n",
    "    #print(\"Шифротекст C:\", C)\n",
    "    binary_result = \"\"  # Собираем все биты\n",
    "    for c in C:\n",
    "        I = identity_matrix(ZZ, n) #создаём матрицу\n",
    "        right = matrix(ZZ, n + 1, 1, B + [-c]) #формируем правый столбец\n",
    "        I = I.stack(matrix(ZZ, 1, n, [0 for _ in range(n)])) #добавляем строку нулей\n",
    "        L = I.augment(right) #присоединяем правый столбец\n",
    "        L_LLL = L.LLL() #LLL\n",
    "        bs1 = \"\".join(\"1\" if x > 0 else \"0\" for x in L_LLL[0][:-1])\n",
    "        print(f\"Бинарный код для c={c}: {bs1}\")\n",
    "        binary_result += bs1\n",
    "    # Преобразуем бинарную строку в текст по 8 бит\n",
    "    message = \"\"\n",
    "    for i in range(0, len(binary_result) - 7, 8):  # Берем только полные 8-битные куски\n",
    "        byte = binary_result[i:i+8]\n",
    "        if int(byte, 2) != 0:  # Игнорируем padding\n",
    "            message += chr(int(byte, 2))\n",
    "    print(\"Расшифрованное сообщение:\", message)"
   ]
  },
  {
   "cell_type": "code",
   "execution_count": 20,
   "id": "2070f730-850c-476a-b62f-e9cb69ebc9b3",
   "metadata": {},
   "outputs": [
    {
     "name": "stdout",
     "output_type": "stream",
     "text": [
      "Бинарный код для c=318668: 01000111\n",
      "Бинарный код для c=317632: 01110010\n",
      "Бинарный код для c=226697: 01100001\n",
      "Бинарный код для c=388930: 01101101\n",
      "Бинарный код для c=357448: 00101101\n",
      "Бинарный код для c=297811: 01010011\n",
      "Бинарный код для c=344670: 01100011\n",
      "Бинарный код для c=219717: 01101000\n",
      "Бинарный код для c=388930: 01101101\n",
      "Бинарный код для c=307414: 01101001\n",
      "Бинарный код для c=220516: 01100100\n",
      "Бинарный код для c=281175: 01110100\n",
      "Расшифрованное сообщение: Gram-Schmidt\n"
     ]
    }
   ],
   "source": [
    "LLL_VC_sage(C,H)"
   ]
  }
 ],
 "metadata": {
  "kernelspec": {
   "display_name": "SageMath 10.5",
   "language": "sage",
   "name": "sagemath"
  },
  "language_info": {
   "codemirror_mode": {
    "name": "ipython",
    "version": 3
   },
   "file_extension": ".py",
   "mimetype": "text/x-python",
   "name": "python",
   "nbconvert_exporter": "python",
   "pygments_lexer": "ipython3",
   "version": "3.11.11"
  }
 },
 "nbformat": 4,
 "nbformat_minor": 5
}
